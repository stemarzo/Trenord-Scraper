{
 "cells": [
  {
   "attachments": {},
   "cell_type": "markdown",
   "metadata": {},
   "source": [
    "# TRENORD SCRAPER"
   ]
  },
  {
   "cell_type": "code",
   "execution_count": 33,
   "metadata": {},
   "outputs": [],
   "source": [
    "from time import sleep\n",
    "from selenium import webdriver\n",
    "from selenium.webdriver.common.keys import Keys\n",
    "import datetime\n",
    "import json\n",
    "import pandas as pd"
   ]
  },
  {
   "attachments": {},
   "cell_type": "markdown",
   "metadata": {},
   "source": [
    "### SELENIUM DRIVER"
   ]
  },
  {
   "cell_type": "code",
   "execution_count": 34,
   "metadata": {},
   "outputs": [
    {
     "name": "stderr",
     "output_type": "stream",
     "text": [
      "/tmp/ipykernel_25048/3775251119.py:1: DeprecationWarning: executable_path has been deprecated, please pass in a Service object\n",
      "  driver = webdriver.Chrome('./executionFile/chromedriver')\n"
     ]
    }
   ],
   "source": [
    "driver = webdriver.Chrome('./executionFile/chromedriver')"
   ]
  },
  {
   "attachments": {},
   "cell_type": "markdown",
   "metadata": {},
   "source": [
    "### CONSTANT"
   ]
  },
  {
   "cell_type": "code",
   "execution_count": 35,
   "metadata": {},
   "outputs": [],
   "source": [
    "LINK_ORARI = \"https://www.trenord.it/linee-e-orari/circolazione/tempo-reale/?train=\"\n",
    "NUMBERS = list(pd.read_csv('./executionFile/trips.csv').loc[:,\"trip_short_name\"])"
   ]
  },
  {
   "cell_type": "code",
   "execution_count": 36,
   "metadata": {},
   "outputs": [],
   "source": [
    "COOKIE_BUTTON_CLASS = \"iubenda-cs-accept-btn iubenda-cs-btn-primary\"\n",
    "INFO_STATION_SCROLLABLE_DIV_CLASS = \"passing-station-container\""
   ]
  },
  {
   "cell_type": "code",
   "execution_count": 37,
   "metadata": {},
   "outputs": [],
   "source": [
    "def getFindTrainPage(driver, link, number):\n",
    "    driver.get(link+str(number))\n",
    "    sleep(5)\n",
    "    return driver"
   ]
  },
  {
   "cell_type": "code",
   "execution_count": 38,
   "metadata": {},
   "outputs": [],
   "source": [
    "def clickButtonClass(driver, className):\n",
    "    try:\n",
    "        driver.find_element(\"xpath\", \"//button[@class='\"+className+\"']\").click()\n",
    "        return(driver)\n",
    "    except:\n",
    "        print(\"No Button\")\n",
    "        return(driver)"
   ]
  },
  {
   "cell_type": "code",
   "execution_count": 39,
   "metadata": {},
   "outputs": [],
   "source": [
    "def getElementClass(driver, element, className):\n",
    "    try:\n",
    "         pageElement = driver.find_element(\"xpath\", \"//\"+element+\"[@class='\"+className+\"']\")\n",
    "         return pageElement\n",
    "    except:\n",
    "         print(element+\" \"+className+\" not found\")"
   ]
  },
  {
   "cell_type": "code",
   "execution_count": 40,
   "metadata": {},
   "outputs": [],
   "source": [
    "def scrollElement(driver, scrollElement):\n",
    "    lastLength = 0\n",
    "    value = 1\n",
    "    while value > lastLength :\n",
    "      lastLength = value\n",
    "      driver.execute_script('arguments[0].scrollTop = arguments[0].scrollTop + (arguments[0].offsetHeight);', scrollElement)#scrollo\n",
    "      value = driver.execute_script(\"var lenOfPage= arguments[0].scrollTop;return lenOfPage;\", scrollElement)#vedo dove sono arrivato dopo lo scroll#vedo dove sono arrivato dopo lo scroll\n",
    "      sleep(0.5)\n",
    "    return driver\n"
   ]
  },
  {
   "cell_type": "code",
   "execution_count": 41,
   "metadata": {},
   "outputs": [],
   "source": [
    "def getStationData(stazione):\n",
    "    stazione = stazione.text.split('\\n')\n",
    "    station = {}\n",
    "    station[\"name\"]= stazione[0]\n",
    "    stazione = stazione[1:]\n",
    "    for info in stazione:\n",
    "        info = info.split(\" \")\n",
    "        station[info[0]] = info[1] \n",
    "    return station"
   ]
  },
  {
   "cell_type": "code",
   "execution_count": 42,
   "metadata": {},
   "outputs": [],
   "source": [
    "def getTrainInformation(driver):\n",
    "    train = {}\n",
    "    train[\"numero\"] = driver.find_element(\"xpath\", \"//span[@class='name']\").text\n",
    "    train[\"linea\"] = driver.find_element(\"xpath\", \"//span[@class='category']\").text\n",
    "    train[\"direction\"] = driver.find_element(\"xpath\", \"//span[@class='direction']\").text\n",
    "    #train[\"data\"] = datetime.datetime.today().strftime(\"%d/%m/%Y\")\n",
    "    train[\"stations\"] = []\n",
    "    stations = driver.find_elements(\"xpath\", \"//div[@class='passing-station']\")\n",
    "    for stazione in stations:\n",
    "      station = getStationData(stazione)\n",
    "      train[\"stations\"].append(station)\n",
    "    return train\n"
   ]
  },
  {
   "cell_type": "code",
   "execution_count": 43,
   "metadata": {},
   "outputs": [
    {
     "name": "stdout",
     "output_type": "stream",
     "text": [
      "No Button\n",
      "No Button\n",
      "div passing-station-container not found\n",
      "Treno non trovato\n",
      "No Button\n",
      "No Button\n",
      "div passing-station-container not found\n",
      "Treno non trovato\n",
      "No Button\n",
      "No Button\n",
      "No Button\n",
      "No Button\n",
      "div passing-station-container not found\n",
      "Treno non trovato\n",
      "No Button\n",
      "No Button\n",
      "No Button\n",
      "div passing-station-container not found\n",
      "Treno non trovato\n",
      "No Button\n",
      "div passing-station-container not found\n",
      "Treno non trovato\n",
      "No Button\n",
      "div passing-station-container not found\n",
      "Treno non trovato\n",
      "No Button\n",
      "div passing-station-container not found\n",
      "Treno non trovato\n",
      "No Button\n"
     ]
    }
   ],
   "source": [
    "#DOCUMENTO\n",
    "treni = []\n",
    "def getTrainInfo(driver, link, number):\n",
    "#GET PAGE\n",
    "  driver = getFindTrainPage(driver, link, number)\n",
    "  driver = clickButtonClass(driver, COOKIE_BUTTON_CLASS)\n",
    "  \n",
    "  try:\n",
    "    scrollDiv = getElementClass(driver, \"div\", INFO_STATION_SCROLLABLE_DIV_CLASS)\n",
    "    scrollElement(driver, scrollDiv)\n",
    "    train = getTrainInformation(driver)\n",
    "    return train\n",
    "    \n",
    "    \n",
    "  except:\n",
    "    print(\"Treno non trovato\")\n",
    "\n",
    "for number in NUMBERS:\n",
    "  treni.append(getTrainInfo(driver,LINK_ORARI, number))\n",
    "\n",
    "with open('S11.json', 'w') as fp:\n",
    "    json.dump(treni, fp)\n"
   ]
  }
 ],
 "metadata": {
  "kernelspec": {
   "display_name": "venv",
   "language": "python",
   "name": "python3"
  },
  "language_info": {
   "codemirror_mode": {
    "name": "ipython",
    "version": 3
   },
   "file_extension": ".py",
   "mimetype": "text/x-python",
   "name": "python",
   "nbconvert_exporter": "python",
   "pygments_lexer": "ipython3",
   "version": "3.8.10"
  },
  "orig_nbformat": 4
 },
 "nbformat": 4,
 "nbformat_minor": 2
}
